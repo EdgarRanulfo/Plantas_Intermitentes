{
 "cells": [
  {
   "cell_type": "code",
   "execution_count": 1,
   "metadata": {
    "ExecuteTime": {
     "end_time": "2020-04-10T02:30:55.987190Z",
     "start_time": "2020-04-10T02:30:54.617218Z"
    }
   },
   "outputs": [
    {
     "name": "stdout",
     "output_type": "stream",
     "text": [
      "Planta a Analizar 7\n"
     ]
    }
   ],
   "source": [
    "planta=eval(input('Planta a Analizar '))"
   ]
  },
  {
   "cell_type": "code",
   "execution_count": 2,
   "metadata": {
    "ExecuteTime": {
     "end_time": "2020-04-10T02:30:59.652554Z",
     "start_time": "2020-04-10T02:30:56.553387Z"
    }
   },
   "outputs": [
    {
     "data": {
      "text/html": [
       " <style> .output {display: center; align-items: left; text-align: center; justify-content: center; } </style> "
      ],
      "text/plain": [
       "<IPython.core.display.HTML object>"
      ]
     },
     "metadata": {},
     "output_type": "display_data"
    }
   ],
   "source": [
    "import pandas as pd\n",
    "import numpy as np\n",
    "import matplotlib as mpl\n",
    "import scipy.stats as st\n",
    "import seaborn as sns\n",
    "import statsmodels.api as sm\n",
    "from datetime import datetime\n",
    "import matplotlib.pyplot as plt\n",
    "from statsmodels.tsa.arima_model import ARIMA\n",
    "import pmdarima as pm\n",
    "from pmdarima.model_selection import train_test_split\n",
    "import matplotlib.pyplot as plt\n",
    "import warnings\n",
    "warnings.filterwarnings(\"ignore\")\n",
    "from statsmodels.tsa.stattools import acf\n",
    "import datetime\n",
    "from statsmodels.graphics.tsaplots import plot_acf, plot_pacf\n",
    "\n",
    "from numpy import inf\n",
    "\n",
    "from IPython.display import display, HTML\n",
    "display(HTML(\"\"\" <style> .output {display: center; align-items: left; text-align: center; justify-content: center; } </style> \"\"\"))"
   ]
  },
  {
   "cell_type": "code",
   "execution_count": 3,
   "metadata": {
    "ExecuteTime": {
     "end_time": "2020-04-10T02:31:26.577389Z",
     "start_time": "2020-04-10T02:30:59.657335Z"
    }
   },
   "outputs": [],
   "source": [
    "#Importación de datos\n",
    "datos = pd.read_excel('Generación Intermitente de la GCROC 2013-2020.xlsx', header=1)"
   ]
  },
  {
   "cell_type": "code",
   "execution_count": 4,
   "metadata": {
    "ExecuteTime": {
     "end_time": "2020-04-10T02:31:31.191126Z",
     "start_time": "2020-04-10T02:31:26.613398Z"
    }
   },
   "outputs": [],
   "source": [
    "numbers = datos.hora-1\n",
    "hours = [datetime.time(num).strftime(\"%H:00:00\") for num in numbers]\n",
    "datos['fecha'] = datos['fecha'].replace(0,np.nan).ffill()\n",
    "datos['fecha'] = pd.to_datetime(datos['fecha'])\n",
    "datos['fecha'] = datos['fecha'].dt.date\n",
    "datos['fecha_hora'] = datos[\"fecha\"].astype(str) + ' ' + hours\n",
    "#LIMPIEZA DE DATOS\n",
    "datos = datos.set_index(datos['fecha_hora'])\n",
    "datos = datos[53736:]"
   ]
  },
  {
   "cell_type": "code",
   "execution_count": 5,
   "metadata": {
    "ExecuteTime": {
     "end_time": "2020-04-10T02:31:31.245111Z",
     "start_time": "2020-04-10T02:31:31.230999Z"
    }
   },
   "outputs": [],
   "source": [
    "columns = ['GICIE301', 'GICIE302','GICIE303','GICIE304','GICIE305','GICIS306', 'GICIS307','GICIS308',\n",
    "          'GICIS309','GICIS310','GICIS311','GICIS312','GICIS313','GICIS314','GICIS315','GICIS316','GICIS317',\n",
    "          'GICIS318','GICIS319','GICIS320','GICIS321','GICIS322','GICIS323','GICIS324','GICIS325','GICIS326']"
   ]
  },
  {
   "cell_type": "code",
   "execution_count": 6,
   "metadata": {
    "ExecuteTime": {
     "end_time": "2020-04-10T02:31:31.274018Z",
     "start_time": "2020-04-10T02:31:31.253927Z"
    }
   },
   "outputs": [
    {
     "data": {
      "text/plain": [
       "'GICIS307'"
      ]
     },
     "execution_count": 6,
     "metadata": {},
     "output_type": "execute_result"
    }
   ],
   "source": [
    "n_periods = 5*24\n",
    "columna = columns[planta-1]\n",
    "columna"
   ]
  },
  {
   "cell_type": "code",
   "execution_count": 7,
   "metadata": {
    "ExecuteTime": {
     "end_time": "2020-04-10T02:31:31.327449Z",
     "start_time": "2020-04-10T02:31:31.283863Z"
    },
    "scrolled": false
   },
   "outputs": [
    {
     "data": {
      "text/html": [
       "<div>\n",
       "<style scoped>\n",
       "    .dataframe tbody tr th:only-of-type {\n",
       "        vertical-align: middle;\n",
       "    }\n",
       "\n",
       "    .dataframe tbody tr th {\n",
       "        vertical-align: top;\n",
       "    }\n",
       "\n",
       "    .dataframe thead th {\n",
       "        text-align: right;\n",
       "    }\n",
       "</style>\n",
       "<table border=\"1\" class=\"dataframe\">\n",
       "  <thead>\n",
       "    <tr style=\"text-align: right;\">\n",
       "      <th></th>\n",
       "      <th>hora</th>\n",
       "      <th>GICIS307</th>\n",
       "    </tr>\n",
       "    <tr>\n",
       "      <th>fecha_hora</th>\n",
       "      <th></th>\n",
       "      <th></th>\n",
       "    </tr>\n",
       "  </thead>\n",
       "  <tbody>\n",
       "    <tr>\n",
       "      <td>2020-01-01 00:00:00</td>\n",
       "      <td>1</td>\n",
       "      <td>0.0</td>\n",
       "    </tr>\n",
       "    <tr>\n",
       "      <td>2020-01-01 01:00:00</td>\n",
       "      <td>2</td>\n",
       "      <td>0.0</td>\n",
       "    </tr>\n",
       "    <tr>\n",
       "      <td>2020-01-01 02:00:00</td>\n",
       "      <td>3</td>\n",
       "      <td>0.0</td>\n",
       "    </tr>\n",
       "    <tr>\n",
       "      <td>2020-01-01 03:00:00</td>\n",
       "      <td>4</td>\n",
       "      <td>0.0</td>\n",
       "    </tr>\n",
       "    <tr>\n",
       "      <td>2020-01-01 04:00:00</td>\n",
       "      <td>5</td>\n",
       "      <td>0.0</td>\n",
       "    </tr>\n",
       "  </tbody>\n",
       "</table>\n",
       "</div>"
      ],
      "text/plain": [
       "                     hora  GICIS307\n",
       "fecha_hora                         \n",
       "2020-01-01 00:00:00     1       0.0\n",
       "2020-01-01 01:00:00     2       0.0\n",
       "2020-01-01 02:00:00     3       0.0\n",
       "2020-01-01 03:00:00     4       0.0\n",
       "2020-01-01 04:00:00     5       0.0"
      ]
     },
     "execution_count": 7,
     "metadata": {},
     "output_type": "execute_result"
    }
   ],
   "source": [
    "df = datos[['hora',columna]]\n",
    "df[columna] = (df[columna]) # para efectos de las tranformaciones logaritmicas(eliminar el 0)\n",
    "df = df.dropna()\n",
    "df.head()"
   ]
  },
  {
   "cell_type": "code",
   "execution_count": null,
   "metadata": {
    "ExecuteTime": {
     "start_time": "2020-04-10T02:36:20.343Z"
    }
   },
   "outputs": [],
   "source": [
    "plt.figure(figsize=(30,15))\n",
    "graph=df[df.columns[1]]\n",
    "plt.plot(graph,label=columna)\n",
    "plt.legend(loc='best')\n",
    "plt.xticks(rotation=90)\n",
    "plt.show()"
   ]
  },
  {
   "cell_type": "code",
   "execution_count": 9,
   "metadata": {
    "ExecuteTime": {
     "end_time": "2020-04-10T02:35:13.052429Z",
     "start_time": "2020-04-10T02:32:35.565020Z"
    }
   },
   "outputs": [
    {
     "name": "stderr",
     "output_type": "stream",
     "text": [
      "ERROR:root:Internal Python error in the inspect module.\n",
      "Below is the traceback from this internal error.\n",
      "\n"
     ]
    },
    {
     "name": "stdout",
     "output_type": "stream",
     "text": [
      "Traceback (most recent call last):\n",
      "  File \"/Users/oscaralfonso/opt/anaconda3/lib/python3.7/site-packages/IPython/core/interactiveshell.py\", line 3326, in run_code\n",
      "    exec(code_obj, self.user_global_ns, self.user_ns)\n",
      "  File \"<ipython-input-9-b333fb647329>\", line 21, in <module>\n",
      "    plt.show()\n",
      "  File \"/Users/oscaralfonso/opt/anaconda3/lib/python3.7/site-packages/matplotlib/pyplot.py\", line 269, in show\n",
      "    return _show(*args, **kw)\n",
      "  File \"/Users/oscaralfonso/opt/anaconda3/lib/python3.7/site-packages/ipykernel/pylab/backend_inline.py\", line 39, in show\n",
      "    metadata=_fetch_figure_metadata(figure_manager.canvas.figure)\n",
      "  File \"/Users/oscaralfonso/opt/anaconda3/lib/python3.7/site-packages/IPython/core/display.py\", line 306, in display\n",
      "    format_dict, md_dict = format(obj, include=include, exclude=exclude)\n",
      "  File \"/Users/oscaralfonso/opt/anaconda3/lib/python3.7/site-packages/IPython/core/formatters.py\", line 180, in format\n",
      "    data = formatter(obj)\n",
      "  File \"</Users/oscaralfonso/opt/anaconda3/lib/python3.7/site-packages/decorator.py:decorator-gen-9>\", line 2, in __call__\n",
      "  File \"/Users/oscaralfonso/opt/anaconda3/lib/python3.7/site-packages/IPython/core/formatters.py\", line 224, in catch_format_error\n",
      "    r = method(self, *args, **kwargs)\n",
      "  File \"/Users/oscaralfonso/opt/anaconda3/lib/python3.7/site-packages/IPython/core/formatters.py\", line 341, in __call__\n",
      "    return printer(obj)\n",
      "  File \"/Users/oscaralfonso/opt/anaconda3/lib/python3.7/site-packages/IPython/core/pylabtools.py\", line 244, in <lambda>\n",
      "    png_formatter.for_type(Figure, lambda fig: print_figure(fig, 'png', **kwargs))\n",
      "  File \"/Users/oscaralfonso/opt/anaconda3/lib/python3.7/site-packages/IPython/core/pylabtools.py\", line 128, in print_figure\n",
      "    fig.canvas.print_figure(bytes_io, **kw)\n",
      "  File \"/Users/oscaralfonso/opt/anaconda3/lib/python3.7/site-packages/matplotlib/backend_bases.py\", line 2069, in print_figure\n",
      "    bbox_extra_artists=bbox_artists)\n",
      "  File \"/Users/oscaralfonso/opt/anaconda3/lib/python3.7/site-packages/matplotlib/figure.py\", line 2367, in get_tightbbox\n",
      "    bbox = a.get_tightbbox(renderer)\n",
      "  File \"/Users/oscaralfonso/opt/anaconda3/lib/python3.7/site-packages/matplotlib/axes/_base.py\", line 4369, in get_tightbbox\n",
      "    self._update_title_position(renderer)\n",
      "  File \"/Users/oscaralfonso/opt/anaconda3/lib/python3.7/site-packages/matplotlib/axes/_base.py\", line 2549, in _update_title_position\n",
      "    bb = ax.xaxis.get_tightbbox(renderer)\n",
      "  File \"/Users/oscaralfonso/opt/anaconda3/lib/python3.7/site-packages/matplotlib/axis.py\", line 1162, in get_tightbbox\n",
      "    ticks_to_draw = self._update_ticks()\n",
      "  File \"/Users/oscaralfonso/opt/anaconda3/lib/python3.7/site-packages/matplotlib/axis.py\", line 1080, in _update_ticks\n",
      "    major_labels = self.major.formatter.format_ticks(major_locs)\n",
      "  File \"/Users/oscaralfonso/opt/anaconda3/lib/python3.7/site-packages/matplotlib/ticker.py\", line 260, in format_ticks\n",
      "    return [self(value, i) for i, value in enumerate(values)]\n",
      "  File \"/Users/oscaralfonso/opt/anaconda3/lib/python3.7/site-packages/matplotlib/ticker.py\", line 260, in <listcomp>\n",
      "    return [self(value, i) for i, value in enumerate(values)]\n",
      "  File \"/Users/oscaralfonso/opt/anaconda3/lib/python3.7/site-packages/matplotlib/category.py\", line 154, in __call__\n",
      "    for k, v in self._units.items()}\n",
      "  File \"/Users/oscaralfonso/opt/anaconda3/lib/python3.7/site-packages/matplotlib/category.py\", line 154, in <dictcomp>\n",
      "    for k, v in self._units.items()}\n",
      "  File \"/Users/oscaralfonso/opt/anaconda3/lib/python3.7/site-packages/matplotlib/category.py\", line 161, in _text\n",
      "    if isinstance(value, bytes):\n",
      "KeyboardInterrupt\n",
      "\n",
      "During handling of the above exception, another exception occurred:\n",
      "\n",
      "Traceback (most recent call last):\n",
      "  File \"/Users/oscaralfonso/opt/anaconda3/lib/python3.7/site-packages/IPython/core/interactiveshell.py\", line 2040, in showtraceback\n",
      "    stb = value._render_traceback_()\n",
      "AttributeError: 'KeyboardInterrupt' object has no attribute '_render_traceback_'\n",
      "\n",
      "During handling of the above exception, another exception occurred:\n",
      "\n",
      "Traceback (most recent call last):\n",
      "  File \"/Users/oscaralfonso/opt/anaconda3/lib/python3.7/site-packages/IPython/core/ultratb.py\", line 1101, in get_records\n",
      "    return _fixed_getinnerframes(etb, number_of_lines_of_context, tb_offset)\n",
      "  File \"/Users/oscaralfonso/opt/anaconda3/lib/python3.7/site-packages/IPython/core/ultratb.py\", line 319, in wrapped\n",
      "    return f(*args, **kwargs)\n",
      "  File \"/Users/oscaralfonso/opt/anaconda3/lib/python3.7/site-packages/IPython/core/ultratb.py\", line 353, in _fixed_getinnerframes\n",
      "    records = fix_frame_records_filenames(inspect.getinnerframes(etb, context))\n",
      "  File \"/Users/oscaralfonso/opt/anaconda3/lib/python3.7/inspect.py\", line 1502, in getinnerframes\n",
      "    frameinfo = (tb.tb_frame,) + getframeinfo(tb, context)\n",
      "  File \"/Users/oscaralfonso/opt/anaconda3/lib/python3.7/inspect.py\", line 1460, in getframeinfo\n",
      "    filename = getsourcefile(frame) or getfile(frame)\n",
      "  File \"/Users/oscaralfonso/opt/anaconda3/lib/python3.7/inspect.py\", line 696, in getsourcefile\n",
      "    if getattr(getmodule(object, filename), '__loader__', None) is not None:\n",
      "  File \"/Users/oscaralfonso/opt/anaconda3/lib/python3.7/inspect.py\", line 742, in getmodule\n",
      "    os.path.realpath(f)] = module.__name__\n",
      "  File \"/Users/oscaralfonso/opt/anaconda3/lib/python3.7/posixpath.py\", line 396, in realpath\n",
      "    return abspath(path)\n",
      "  File \"/Users/oscaralfonso/opt/anaconda3/lib/python3.7/posixpath.py\", line 385, in abspath\n",
      "    return normpath(path)\n",
      "  File \"/Users/oscaralfonso/opt/anaconda3/lib/python3.7/posixpath.py\", line 362, in normpath\n",
      "    if comp in (empty, dot):\n",
      "KeyboardInterrupt\n"
     ]
    },
    {
     "ename": "KeyboardInterrupt",
     "evalue": "",
     "output_type": "error",
     "traceback": [
      "\u001b[0;31m---------------------------------------------------------------------------\u001b[0m"
     ]
    }
   ],
   "source": [
    "# Original Series\n",
    "df2 = df.drop(['hora'], axis=1)\n",
    "df2\n",
    "\n",
    "fig, axes = plt.subplots(3, 2, sharex=True,figsize=(15,15))\n",
    "axes[1,0].set_xlim([0, 100])\n",
    "axes[0,1].set_xlim([0, 25])\n",
    "axes[0, 0].plot(df2); axes[0, 0].set_title('Original Series')\n",
    "plot_acf(df2, ax=axes[0, 1])\n",
    "\n",
    "# 1st Differencing\n",
    "axes[1, 0].plot(df2.diff()); axes[1, 0].set_title('1st Order Differencing')\n",
    "axes[0,0].set_xlim([0, 25])\n",
    "plot_acf(df2.diff().dropna(), ax=axes[1, 1])\n",
    "\n",
    "# 2nd Differencing\n",
    "axes[2, 0].plot(df2.diff().diff()); axes[2, 0].set_title('2nd Order Differencing')\n",
    "axes[0,0].set_xlim([0, 25])\n",
    "plot_acf(df2.diff().diff().dropna(), ax=axes[2, 1])\n",
    "\n",
    "plt.show()"
   ]
  },
  {
   "cell_type": "code",
   "execution_count": null,
   "metadata": {
    "ExecuteTime": {
     "end_time": "2020-04-10T02:35:13.090120Z",
     "start_time": "2020-04-10T02:31:04.537Z"
    }
   },
   "outputs": [],
   "source": [
    "#How to find the order of the AR term (p)\n",
    "plt.rcParams.update({'figure.figsize':(9,3), 'figure.dpi':120})\n",
    "\n",
    "fig, axes = plt.subplots(1, 2, sharex=True)\n",
    "axes[0].set_xlim([0, 25])\n",
    "axes[1].set(ylim=(-500,600))\n",
    "axes[0].plot(df2.diff()); axes[0].set_title('1st Differencing')\n",
    "axes[1].set_xlim([-0.35, 30])\n",
    "axes[1].set(ylim=(-1,1.5))\n",
    "plot_pacf(df2.diff().dropna(), ax=axes[1])\n",
    "\n",
    "plt.show()"
   ]
  },
  {
   "cell_type": "code",
   "execution_count": null,
   "metadata": {
    "ExecuteTime": {
     "end_time": "2020-04-10T02:35:13.111545Z",
     "start_time": "2020-04-10T02:31:04.912Z"
    }
   },
   "outputs": [],
   "source": [
    "#%%How to find the order of the MA term (q)\n",
    "import pandas as pd\n",
    "plt.rcParams.update({'figure.figsize':(9,3), 'figure.dpi':120})\n",
    "\n",
    "fig, axes = plt.subplots(1, 2, sharex=True)\n",
    "axes[0].plot(df2.diff().diff()); axes[0].set_title('1st Differencing')\n",
    "axes[1].set(ylim=(-0.40,1.10))\n",
    "axes[1].set(xlim=(-0.5,35))\n",
    "plot_acf(df2.diff().dropna(), ax=axes[1])\n",
    "\n",
    "plt.show()"
   ]
  },
  {
   "cell_type": "code",
   "execution_count": null,
   "metadata": {
    "ExecuteTime": {
     "end_time": "2020-04-10T02:35:13.123898Z",
     "start_time": "2020-04-10T02:31:05.254Z"
    }
   },
   "outputs": [],
   "source": [
    "from statsmodels.tsa.seasonal import seasonal_decompose"
   ]
  },
  {
   "cell_type": "code",
   "execution_count": null,
   "metadata": {
    "ExecuteTime": {
     "end_time": "2020-04-10T02:35:13.132225Z",
     "start_time": "2020-04-10T02:31:05.513Z"
    }
   },
   "outputs": [],
   "source": [
    "import matplotlib.pyplot as plt \n",
    "\n",
    "result = seasonal_decompose(df2, model='additive',freq=24)\n",
    "fig, (ax1,ax2,ax3,ax4) = plt.subplots(4,1, figsize=(15,8))\n",
    "\n",
    "ax1.set_ylabel('Original Series')\n",
    "ax2.set_ylabel('Trend')\n",
    "ax3.set_ylabel('Seasonal')\n",
    "ax4.set_ylabel('Residual')\n",
    "\n",
    "result.observed.plot(ax=ax1,color='indigo')\n",
    "result.trend.plot(ax=ax2,color='dodgerblue')\n",
    "result.seasonal.plot(ax=ax3,color ='turquoise')\n",
    "result.resid.plot(ax=ax4,color='darkorange')"
   ]
  },
  {
   "cell_type": "code",
   "execution_count": null,
   "metadata": {
    "ExecuteTime": {
     "end_time": "2020-04-10T02:35:13.145644Z",
     "start_time": "2020-04-10T02:31:05.693Z"
    }
   },
   "outputs": [],
   "source": [
    "# Test for stationarity\n",
    "\n",
    "from statsmodels.tsa.stattools import adfuller, kpss\n",
    "\n",
    "# ADF Test\n",
    "result = adfuller(df2.values, autolag='AIC')\n",
    "print(f'ADF Statistic: {result[0]}')\n",
    "print(f'p-value: {result[1]}')\n",
    "for key, value in result[4].items():\n",
    "    print('Critial Values:')\n",
    "    print(f'   {key}, {value}')\n"
   ]
  },
  {
   "cell_type": "code",
   "execution_count": null,
   "metadata": {
    "ExecuteTime": {
     "end_time": "2020-04-10T02:35:13.154474Z",
     "start_time": "2020-04-10T02:31:05.851Z"
    }
   },
   "outputs": [],
   "source": [
    "\n",
    "# KPSS Test\n",
    "result = kpss(df2.values, regression='c')\n",
    "print('\\nKPSS Statistic: %f' % result[0])\n",
    "print('p-value: %f' % result[1])\n",
    "for key, value in result[3].items():\n",
    "    print('Critial Values:')\n",
    "    print(f'   {key}, {value}')"
   ]
  },
  {
   "cell_type": "code",
   "execution_count": null,
   "metadata": {},
   "outputs": [],
   "source": []
  },
  {
   "cell_type": "code",
   "execution_count": null,
   "metadata": {},
   "outputs": [],
   "source": []
  }
 ],
 "metadata": {
  "kernelspec": {
   "display_name": "Python 3",
   "language": "python",
   "name": "python3"
  },
  "language_info": {
   "codemirror_mode": {
    "name": "ipython",
    "version": 3
   },
   "file_extension": ".py",
   "mimetype": "text/x-python",
   "name": "python",
   "nbconvert_exporter": "python",
   "pygments_lexer": "ipython3",
   "version": "3.7.4"
  }
 },
 "nbformat": 4,
 "nbformat_minor": 2
}
