{
 "cells": [
  {
   "cell_type": "markdown",
   "metadata": {},
   "source": [
    "## WeatherStack https://weatherstack.com/documentation"
   ]
  },
  {
   "cell_type": "code",
   "execution_count": 9,
   "metadata": {},
   "outputs": [
    {
     "data": {
      "text/plain": [
       "{'success': False,\n",
       " 'error': {'code': 603,\n",
       "  'type': 'historical_queries_not_supported_on_plan',\n",
       "  'info': 'Your current subscription plan does not support historical weather data. Please upgrade your account to use this feature.'}}"
      ]
     },
     "execution_count": 9,
     "metadata": {},
     "output_type": "execute_result"
    }
   ],
   "source": [
    "# coding: utf-8\n",
    "import requests\n",
    "\n",
    "params = {\n",
    "    'access_key': '0f29d3ed98d68554a02895eebf699cae',\n",
    "    'query': 'New York',\n",
    "    'hourly': '1'\n",
    "}\n",
    "\n",
    "api_result = requests.get('http://api.weatherstack.com/historical', params)\n",
    "\n",
    "api_response = api_result.json()\n",
    "api_response"
   ]
  },
  {
   "cell_type": "code",
   "execution_count": 8,
   "metadata": {},
   "outputs": [
    {
     "name": "stdout",
     "output_type": "stream",
     "text": [
      "Current temperature in New York is 3℃\n"
     ]
    }
   ],
   "source": [
    "print(u'Current temperature in %s is %d℃' % (api_response['location']['name'], api_response['current']['temperature']))"
   ]
  }
 ],
 "metadata": {
  "kernelspec": {
   "display_name": "Python 3",
   "language": "python",
   "name": "python3"
  },
  "language_info": {
   "codemirror_mode": {
    "name": "ipython",
    "version": 3
   },
   "file_extension": ".py",
   "mimetype": "text/x-python",
   "name": "python",
   "nbconvert_exporter": "python",
   "pygments_lexer": "ipython3",
   "version": "3.6.8"
  }
 },
 "nbformat": 4,
 "nbformat_minor": 2
}
