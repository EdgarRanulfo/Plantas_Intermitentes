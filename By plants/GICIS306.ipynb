{
 "cells": [
  {
   "cell_type": "code",
   "execution_count": 1,
   "metadata": {
    "ExecuteTime": {
     "end_time": "2020-03-21T21:37:27.266057Z",
     "start_time": "2020-03-21T21:37:24.805939Z"
    }
   },
   "outputs": [
    {
     "data": {
      "text/html": [
       " <style> .output {display: center; align-items: left; text-align: center; justify-content: center; } </style> "
      ],
      "text/plain": [
       "<IPython.core.display.HTML object>"
      ]
     },
     "metadata": {},
     "output_type": "display_data"
    }
   ],
   "source": [
    "import pandas as pd\n",
    "import numpy as np\n",
    "import matplotlib as mpl\n",
    "import scipy.stats as st\n",
    "import seaborn as sns\n",
    "import statsmodels.api as sm\n",
    "from datetime import datetime\n",
    "import matplotlib.pyplot as plt\n",
    "from statsmodels.tsa.arima_model import ARIMA\n",
    "import pmdarima as pm\n",
    "from pmdarima.model_selection import train_test_split\n",
    "import matplotlib.pyplot as plt\n",
    "import warnings\n",
    "warnings.filterwarnings(\"ignore\")\n",
    "from statsmodels.tsa.stattools import acf\n",
    "import datetime\n",
    "\n",
    "from numpy import inf\n",
    "\n",
    "from IPython.display import display, HTML\n",
    "display(HTML(\"\"\" <style> .output {display: center; align-items: left; text-align: center; justify-content: center; } </style> \"\"\"))"
   ]
  },
  {
   "cell_type": "code",
   "execution_count": 2,
   "metadata": {
    "ExecuteTime": {
     "end_time": "2020-03-21T21:37:46.427376Z",
     "start_time": "2020-03-21T21:37:27.269988Z"
    }
   },
   "outputs": [],
   "source": [
    "#Importación de datos\n",
    "datos = pd.read_excel('Generación Intermitente de la GCROC 2013-2020.xlsx', header=1)"
   ]
  },
  {
   "cell_type": "code",
   "execution_count": 3,
   "metadata": {
    "ExecuteTime": {
     "end_time": "2020-03-21T21:37:47.368146Z",
     "start_time": "2020-03-21T21:37:46.445127Z"
    }
   },
   "outputs": [
    {
     "data": {
      "text/html": [
       "<div>\n",
       "<style scoped>\n",
       "    .dataframe tbody tr th:only-of-type {\n",
       "        vertical-align: middle;\n",
       "    }\n",
       "\n",
       "    .dataframe tbody tr th {\n",
       "        vertical-align: top;\n",
       "    }\n",
       "\n",
       "    .dataframe thead th {\n",
       "        text-align: right;\n",
       "    }\n",
       "</style>\n",
       "<table border=\"1\" class=\"dataframe\">\n",
       "  <thead>\n",
       "    <tr style=\"text-align: right;\">\n",
       "      <th></th>\n",
       "      <th>Unnamed: 0</th>\n",
       "      <th>dia de la semana</th>\n",
       "      <th>fecha</th>\n",
       "      <th>hora</th>\n",
       "      <th>GICIE301</th>\n",
       "      <th>GICIE302</th>\n",
       "      <th>GICIE303</th>\n",
       "      <th>GICIE304</th>\n",
       "      <th>GICIE305</th>\n",
       "      <th>GICIS306</th>\n",
       "      <th>...</th>\n",
       "      <th>GICIS318</th>\n",
       "      <th>GICIS319</th>\n",
       "      <th>GICIS320</th>\n",
       "      <th>GICIS321</th>\n",
       "      <th>GICIS322</th>\n",
       "      <th>GICIS323</th>\n",
       "      <th>GICIS324</th>\n",
       "      <th>GICIS325</th>\n",
       "      <th>GICIS326</th>\n",
       "      <th>fecha_hora</th>\n",
       "    </tr>\n",
       "  </thead>\n",
       "  <tbody>\n",
       "    <tr>\n",
       "      <td>0</td>\n",
       "      <td>NaN</td>\n",
       "      <td>Jueves</td>\n",
       "      <td>2013-11-14</td>\n",
       "      <td>1</td>\n",
       "      <td>0.0</td>\n",
       "      <td>NaN</td>\n",
       "      <td>NaN</td>\n",
       "      <td>NaN</td>\n",
       "      <td>NaN</td>\n",
       "      <td>NaN</td>\n",
       "      <td>...</td>\n",
       "      <td>NaN</td>\n",
       "      <td>NaN</td>\n",
       "      <td>NaN</td>\n",
       "      <td>NaN</td>\n",
       "      <td>NaN</td>\n",
       "      <td>NaN</td>\n",
       "      <td>NaN</td>\n",
       "      <td>NaN</td>\n",
       "      <td>NaN</td>\n",
       "      <td>2013-11-14 00:00</td>\n",
       "    </tr>\n",
       "    <tr>\n",
       "      <td>1</td>\n",
       "      <td>NaN</td>\n",
       "      <td>NaN</td>\n",
       "      <td>2013-11-14</td>\n",
       "      <td>2</td>\n",
       "      <td>0.0</td>\n",
       "      <td>NaN</td>\n",
       "      <td>NaN</td>\n",
       "      <td>NaN</td>\n",
       "      <td>NaN</td>\n",
       "      <td>NaN</td>\n",
       "      <td>...</td>\n",
       "      <td>NaN</td>\n",
       "      <td>NaN</td>\n",
       "      <td>NaN</td>\n",
       "      <td>NaN</td>\n",
       "      <td>NaN</td>\n",
       "      <td>NaN</td>\n",
       "      <td>NaN</td>\n",
       "      <td>NaN</td>\n",
       "      <td>NaN</td>\n",
       "      <td>2013-11-14 01:00</td>\n",
       "    </tr>\n",
       "    <tr>\n",
       "      <td>2</td>\n",
       "      <td>NaN</td>\n",
       "      <td>NaN</td>\n",
       "      <td>2013-11-14</td>\n",
       "      <td>3</td>\n",
       "      <td>0.0</td>\n",
       "      <td>NaN</td>\n",
       "      <td>NaN</td>\n",
       "      <td>NaN</td>\n",
       "      <td>NaN</td>\n",
       "      <td>NaN</td>\n",
       "      <td>...</td>\n",
       "      <td>NaN</td>\n",
       "      <td>NaN</td>\n",
       "      <td>NaN</td>\n",
       "      <td>NaN</td>\n",
       "      <td>NaN</td>\n",
       "      <td>NaN</td>\n",
       "      <td>NaN</td>\n",
       "      <td>NaN</td>\n",
       "      <td>NaN</td>\n",
       "      <td>2013-11-14 02:00</td>\n",
       "    </tr>\n",
       "    <tr>\n",
       "      <td>3</td>\n",
       "      <td>NaN</td>\n",
       "      <td>NaN</td>\n",
       "      <td>2013-11-14</td>\n",
       "      <td>4</td>\n",
       "      <td>0.0</td>\n",
       "      <td>NaN</td>\n",
       "      <td>NaN</td>\n",
       "      <td>NaN</td>\n",
       "      <td>NaN</td>\n",
       "      <td>NaN</td>\n",
       "      <td>...</td>\n",
       "      <td>NaN</td>\n",
       "      <td>NaN</td>\n",
       "      <td>NaN</td>\n",
       "      <td>NaN</td>\n",
       "      <td>NaN</td>\n",
       "      <td>NaN</td>\n",
       "      <td>NaN</td>\n",
       "      <td>NaN</td>\n",
       "      <td>NaN</td>\n",
       "      <td>2013-11-14 03:00</td>\n",
       "    </tr>\n",
       "    <tr>\n",
       "      <td>4</td>\n",
       "      <td>NaN</td>\n",
       "      <td>NaN</td>\n",
       "      <td>2013-11-14</td>\n",
       "      <td>5</td>\n",
       "      <td>0.0</td>\n",
       "      <td>NaN</td>\n",
       "      <td>NaN</td>\n",
       "      <td>NaN</td>\n",
       "      <td>NaN</td>\n",
       "      <td>NaN</td>\n",
       "      <td>...</td>\n",
       "      <td>NaN</td>\n",
       "      <td>NaN</td>\n",
       "      <td>NaN</td>\n",
       "      <td>NaN</td>\n",
       "      <td>NaN</td>\n",
       "      <td>NaN</td>\n",
       "      <td>NaN</td>\n",
       "      <td>NaN</td>\n",
       "      <td>NaN</td>\n",
       "      <td>2013-11-14 04:00</td>\n",
       "    </tr>\n",
       "  </tbody>\n",
       "</table>\n",
       "<p>5 rows × 31 columns</p>\n",
       "</div>"
      ],
      "text/plain": [
       "   Unnamed: 0 dia de la semana       fecha  hora  GICIE301  GICIE302  \\\n",
       "0         NaN           Jueves  2013-11-14     1       0.0       NaN   \n",
       "1         NaN              NaN  2013-11-14     2       0.0       NaN   \n",
       "2         NaN              NaN  2013-11-14     3       0.0       NaN   \n",
       "3         NaN              NaN  2013-11-14     4       0.0       NaN   \n",
       "4         NaN              NaN  2013-11-14     5       0.0       NaN   \n",
       "\n",
       "   GICIE303  GICIE304  GICIE305  GICIS306  ...  GICIS318  GICIS319  GICIS320  \\\n",
       "0       NaN       NaN       NaN       NaN  ...       NaN       NaN       NaN   \n",
       "1       NaN       NaN       NaN       NaN  ...       NaN       NaN       NaN   \n",
       "2       NaN       NaN       NaN       NaN  ...       NaN       NaN       NaN   \n",
       "3       NaN       NaN       NaN       NaN  ...       NaN       NaN       NaN   \n",
       "4       NaN       NaN       NaN       NaN  ...       NaN       NaN       NaN   \n",
       "\n",
       "   GICIS321  GICIS322  GICIS323  GICIS324  GICIS325  GICIS326  \\\n",
       "0       NaN       NaN       NaN       NaN       NaN       NaN   \n",
       "1       NaN       NaN       NaN       NaN       NaN       NaN   \n",
       "2       NaN       NaN       NaN       NaN       NaN       NaN   \n",
       "3       NaN       NaN       NaN       NaN       NaN       NaN   \n",
       "4       NaN       NaN       NaN       NaN       NaN       NaN   \n",
       "\n",
       "         fecha_hora  \n",
       "0  2013-11-14 00:00  \n",
       "1  2013-11-14 01:00  \n",
       "2  2013-11-14 02:00  \n",
       "3  2013-11-14 03:00  \n",
       "4  2013-11-14 04:00  \n",
       "\n",
       "[5 rows x 31 columns]"
      ]
     },
     "execution_count": 3,
     "metadata": {},
     "output_type": "execute_result"
    }
   ],
   "source": [
    "numbers = datos.hora-1\n",
    "hours = [datetime.time(num).strftime(\"%H:00\") for num in numbers]\n",
    "datos['fecha'] = datos['fecha'].replace(0,np.nan).ffill()\n",
    "datos['fecha'] = pd.to_datetime(datos['fecha'])\n",
    "datos['fecha'] = datos['fecha'].dt.date\n",
    "datos['fecha_hora'] = datos[\"fecha\"].astype(str) + ' ' + hours\n",
    "datos.head()"
   ]
  },
  {
   "cell_type": "code",
   "execution_count": 4,
   "metadata": {
    "ExecuteTime": {
     "end_time": "2020-03-21T21:37:47.445210Z",
     "start_time": "2020-03-21T21:37:47.401392Z"
    }
   },
   "outputs": [
    {
     "data": {
      "text/html": [
       "<div>\n",
       "<style scoped>\n",
       "    .dataframe tbody tr th:only-of-type {\n",
       "        vertical-align: middle;\n",
       "    }\n",
       "\n",
       "    .dataframe tbody tr th {\n",
       "        vertical-align: top;\n",
       "    }\n",
       "\n",
       "    .dataframe thead th {\n",
       "        text-align: right;\n",
       "    }\n",
       "</style>\n",
       "<table border=\"1\" class=\"dataframe\">\n",
       "  <thead>\n",
       "    <tr style=\"text-align: right;\">\n",
       "      <th></th>\n",
       "      <th>Unnamed: 0</th>\n",
       "      <th>dia de la semana</th>\n",
       "      <th>fecha</th>\n",
       "      <th>hora</th>\n",
       "      <th>GICIE301</th>\n",
       "      <th>GICIE302</th>\n",
       "      <th>GICIE303</th>\n",
       "      <th>GICIE304</th>\n",
       "      <th>GICIE305</th>\n",
       "      <th>GICIS306</th>\n",
       "      <th>...</th>\n",
       "      <th>GICIS318</th>\n",
       "      <th>GICIS319</th>\n",
       "      <th>GICIS320</th>\n",
       "      <th>GICIS321</th>\n",
       "      <th>GICIS322</th>\n",
       "      <th>GICIS323</th>\n",
       "      <th>GICIS324</th>\n",
       "      <th>GICIS325</th>\n",
       "      <th>GICIS326</th>\n",
       "      <th>fecha_hora</th>\n",
       "    </tr>\n",
       "  </thead>\n",
       "  <tbody>\n",
       "    <tr>\n",
       "      <td>55387</td>\n",
       "      <td>NaN</td>\n",
       "      <td>NaN</td>\n",
       "      <td>2020-03-09</td>\n",
       "      <td>20</td>\n",
       "      <td>12140.0</td>\n",
       "      <td>6879.0</td>\n",
       "      <td>26607.0</td>\n",
       "      <td>19358.0</td>\n",
       "      <td>10983.0</td>\n",
       "      <td>0.0</td>\n",
       "      <td>...</td>\n",
       "      <td>0.0</td>\n",
       "      <td>0.0</td>\n",
       "      <td>0.0</td>\n",
       "      <td>0.0</td>\n",
       "      <td>0.0</td>\n",
       "      <td>0.0</td>\n",
       "      <td>0.0</td>\n",
       "      <td>0.0</td>\n",
       "      <td>0.0</td>\n",
       "      <td>2020-03-09 19:00</td>\n",
       "    </tr>\n",
       "    <tr>\n",
       "      <td>55388</td>\n",
       "      <td>NaN</td>\n",
       "      <td>NaN</td>\n",
       "      <td>2020-03-09</td>\n",
       "      <td>21</td>\n",
       "      <td>4313.0</td>\n",
       "      <td>31473.0</td>\n",
       "      <td>14942.0</td>\n",
       "      <td>3029.0</td>\n",
       "      <td>15129.0</td>\n",
       "      <td>0.0</td>\n",
       "      <td>...</td>\n",
       "      <td>0.0</td>\n",
       "      <td>0.0</td>\n",
       "      <td>0.0</td>\n",
       "      <td>0.0</td>\n",
       "      <td>0.0</td>\n",
       "      <td>0.0</td>\n",
       "      <td>0.0</td>\n",
       "      <td>0.0</td>\n",
       "      <td>0.0</td>\n",
       "      <td>2020-03-09 20:00</td>\n",
       "    </tr>\n",
       "    <tr>\n",
       "      <td>55389</td>\n",
       "      <td>NaN</td>\n",
       "      <td>NaN</td>\n",
       "      <td>2020-03-09</td>\n",
       "      <td>22</td>\n",
       "      <td>98.0</td>\n",
       "      <td>54796.0</td>\n",
       "      <td>33875.0</td>\n",
       "      <td>22778.0</td>\n",
       "      <td>8490.0</td>\n",
       "      <td>0.0</td>\n",
       "      <td>...</td>\n",
       "      <td>0.0</td>\n",
       "      <td>0.0</td>\n",
       "      <td>0.0</td>\n",
       "      <td>0.0</td>\n",
       "      <td>0.0</td>\n",
       "      <td>0.0</td>\n",
       "      <td>0.0</td>\n",
       "      <td>0.0</td>\n",
       "      <td>0.0</td>\n",
       "      <td>2020-03-09 21:00</td>\n",
       "    </tr>\n",
       "    <tr>\n",
       "      <td>55390</td>\n",
       "      <td>NaN</td>\n",
       "      <td>NaN</td>\n",
       "      <td>2020-03-09</td>\n",
       "      <td>23</td>\n",
       "      <td>803.0</td>\n",
       "      <td>57081.0</td>\n",
       "      <td>34073.0</td>\n",
       "      <td>36240.0</td>\n",
       "      <td>16482.0</td>\n",
       "      <td>0.0</td>\n",
       "      <td>...</td>\n",
       "      <td>0.0</td>\n",
       "      <td>0.0</td>\n",
       "      <td>0.0</td>\n",
       "      <td>0.0</td>\n",
       "      <td>0.0</td>\n",
       "      <td>0.0</td>\n",
       "      <td>0.0</td>\n",
       "      <td>0.0</td>\n",
       "      <td>0.0</td>\n",
       "      <td>2020-03-09 22:00</td>\n",
       "    </tr>\n",
       "    <tr>\n",
       "      <td>55391</td>\n",
       "      <td>NaN</td>\n",
       "      <td>NaN</td>\n",
       "      <td>2020-03-09</td>\n",
       "      <td>24</td>\n",
       "      <td>7594.0</td>\n",
       "      <td>56351.0</td>\n",
       "      <td>39697.0</td>\n",
       "      <td>45519.0</td>\n",
       "      <td>22479.0</td>\n",
       "      <td>0.0</td>\n",
       "      <td>...</td>\n",
       "      <td>0.0</td>\n",
       "      <td>0.0</td>\n",
       "      <td>0.0</td>\n",
       "      <td>0.0</td>\n",
       "      <td>0.0</td>\n",
       "      <td>0.0</td>\n",
       "      <td>0.0</td>\n",
       "      <td>0.0</td>\n",
       "      <td>0.0</td>\n",
       "      <td>2020-03-09 23:00</td>\n",
       "    </tr>\n",
       "  </tbody>\n",
       "</table>\n",
       "<p>5 rows × 31 columns</p>\n",
       "</div>"
      ],
      "text/plain": [
       "       Unnamed: 0 dia de la semana       fecha  hora  GICIE301  GICIE302  \\\n",
       "55387         NaN              NaN  2020-03-09    20   12140.0    6879.0   \n",
       "55388         NaN              NaN  2020-03-09    21    4313.0   31473.0   \n",
       "55389         NaN              NaN  2020-03-09    22      98.0   54796.0   \n",
       "55390         NaN              NaN  2020-03-09    23     803.0   57081.0   \n",
       "55391         NaN              NaN  2020-03-09    24    7594.0   56351.0   \n",
       "\n",
       "       GICIE303  GICIE304  GICIE305  GICIS306  ...  GICIS318  GICIS319  \\\n",
       "55387   26607.0   19358.0   10983.0       0.0  ...       0.0       0.0   \n",
       "55388   14942.0    3029.0   15129.0       0.0  ...       0.0       0.0   \n",
       "55389   33875.0   22778.0    8490.0       0.0  ...       0.0       0.0   \n",
       "55390   34073.0   36240.0   16482.0       0.0  ...       0.0       0.0   \n",
       "55391   39697.0   45519.0   22479.0       0.0  ...       0.0       0.0   \n",
       "\n",
       "       GICIS320  GICIS321  GICIS322  GICIS323  GICIS324  GICIS325  GICIS326  \\\n",
       "55387       0.0       0.0       0.0       0.0       0.0       0.0       0.0   \n",
       "55388       0.0       0.0       0.0       0.0       0.0       0.0       0.0   \n",
       "55389       0.0       0.0       0.0       0.0       0.0       0.0       0.0   \n",
       "55390       0.0       0.0       0.0       0.0       0.0       0.0       0.0   \n",
       "55391       0.0       0.0       0.0       0.0       0.0       0.0       0.0   \n",
       "\n",
       "             fecha_hora  \n",
       "55387  2020-03-09 19:00  \n",
       "55388  2020-03-09 20:00  \n",
       "55389  2020-03-09 21:00  \n",
       "55390  2020-03-09 22:00  \n",
       "55391  2020-03-09 23:00  \n",
       "\n",
       "[5 rows x 31 columns]"
      ]
     },
     "execution_count": 4,
     "metadata": {},
     "output_type": "execute_result"
    }
   ],
   "source": [
    "datos.tail()"
   ]
  },
  {
   "cell_type": "code",
   "execution_count": 5,
   "metadata": {
    "ExecuteTime": {
     "end_time": "2020-03-21T21:37:47.487566Z",
     "start_time": "2020-03-21T21:37:47.456761Z"
    },
    "scrolled": true
   },
   "outputs": [],
   "source": [
    "#LIMPIEZA DE DATOS\n",
    "datos = datos.set_index(datos['fecha_hora'])\n",
    "datos = datos[53736:]"
   ]
  },
  {
   "cell_type": "code",
   "execution_count": 6,
   "metadata": {
    "ExecuteTime": {
     "end_time": "2020-03-21T21:37:47.509978Z",
     "start_time": "2020-03-21T21:37:47.501706Z"
    }
   },
   "outputs": [],
   "source": [
    "n_periods = 5*24"
   ]
  },
  {
   "cell_type": "code",
   "execution_count": 7,
   "metadata": {
    "ExecuteTime": {
     "end_time": "2020-03-21T21:37:47.522131Z",
     "start_time": "2020-03-21T21:37:47.516604Z"
    }
   },
   "outputs": [],
   "source": [
    "columns = ['GICIE301', 'GICIE302','GICIE303','GICIE304','GICIE305','GICIS306', 'GICIS307','GICIS308',\n",
    "          'GICIS309','GICIS310','GICIS311','GICIS312','GICIS313','GICIS314''GICIS315','GICIS316','GICIS317',\n",
    "          'GICIS318','GICIS319','GICIS320','GICIS321','GICIS322','GICIS323','GICIS324','GICIS325','GICIS326']"
   ]
  },
  {
   "cell_type": "code",
   "execution_count": 8,
   "metadata": {
    "ExecuteTime": {
     "end_time": "2020-03-21T21:37:47.537399Z",
     "start_time": "2020-03-21T21:37:47.531512Z"
    }
   },
   "outputs": [
    {
     "data": {
      "text/plain": [
       "'GICIS306'"
      ]
     },
     "execution_count": 8,
     "metadata": {},
     "output_type": "execute_result"
    }
   ],
   "source": [
    "columna = columns[5]\n",
    "columna"
   ]
  },
  {
   "cell_type": "code",
   "execution_count": 9,
   "metadata": {
    "ExecuteTime": {
     "end_time": "2020-03-21T21:37:47.546236Z",
     "start_time": "2020-03-21T21:37:47.542516Z"
    }
   },
   "outputs": [],
   "source": [
    "def mape(forecast, actual):\n",
    "    return np.mean(np.abs((forecast - actual)/actual))  # MAPE"
   ]
  },
  {
   "cell_type": "code",
   "execution_count": 10,
   "metadata": {
    "ExecuteTime": {
     "end_time": "2020-03-21T21:37:47.560025Z",
     "start_time": "2020-03-21T21:37:47.548666Z"
    }
   },
   "outputs": [],
   "source": [
    "def AIC_accuracy(train,test):\n",
    "    fcc = []\n",
    "    for i in range(1,25):\n",
    "        \n",
    "        data = train['Hora '+str(i)].dropna()\n",
    "        model = pm.auto_arima(data.values, start_p=1, start_q=1,\n",
    "                          test='adf',       # use adftest to find optimal 'd'\n",
    "                          max_p=5, max_q=5, # maximum p and q\n",
    "                          m=12,              # frequency of series\n",
    "                          d=None,           # let model determine 'd'\n",
    "                          seasonal=True,   # No Seasonality\n",
    "                          start_P=0, \n",
    "                          D=0, \n",
    "                          trace=False,\n",
    "                          error_action='ignore',  \n",
    "                          suppress_warnings=True, \n",
    "                          stepwise=True)\n",
    "        #model.fit(data.values)\n",
    "        #print(model)\n",
    "        #model.plot_diagnostics(figsize=(7,5))\n",
    "        #plt.show()\n",
    "        # Predicción\n",
    "        fc, confint = model.predict(n_periods=n_periods, return_conf_int=True)\n",
    "        fcc.append(fc)\n",
    "    return(fcc, model)"
   ]
  },
  {
   "cell_type": "code",
   "execution_count": 11,
   "metadata": {
    "ExecuteTime": {
     "end_time": "2020-03-21T21:37:47.584836Z",
     "start_time": "2020-03-21T21:37:47.565602Z"
    }
   },
   "outputs": [
    {
     "data": {
      "text/html": [
       "<div>\n",
       "<style scoped>\n",
       "    .dataframe tbody tr th:only-of-type {\n",
       "        vertical-align: middle;\n",
       "    }\n",
       "\n",
       "    .dataframe tbody tr th {\n",
       "        vertical-align: top;\n",
       "    }\n",
       "\n",
       "    .dataframe thead th {\n",
       "        text-align: right;\n",
       "    }\n",
       "</style>\n",
       "<table border=\"1\" class=\"dataframe\">\n",
       "  <thead>\n",
       "    <tr style=\"text-align: right;\">\n",
       "      <th></th>\n",
       "      <th>hora</th>\n",
       "      <th>GICIS306</th>\n",
       "    </tr>\n",
       "    <tr>\n",
       "      <th>fecha_hora</th>\n",
       "      <th></th>\n",
       "      <th></th>\n",
       "    </tr>\n",
       "  </thead>\n",
       "  <tbody>\n",
       "    <tr>\n",
       "      <td>2020-01-01 00:00</td>\n",
       "      <td>1</td>\n",
       "      <td>0.0</td>\n",
       "    </tr>\n",
       "    <tr>\n",
       "      <td>2020-01-01 01:00</td>\n",
       "      <td>2</td>\n",
       "      <td>0.0</td>\n",
       "    </tr>\n",
       "    <tr>\n",
       "      <td>2020-01-01 02:00</td>\n",
       "      <td>3</td>\n",
       "      <td>0.0</td>\n",
       "    </tr>\n",
       "    <tr>\n",
       "      <td>2020-01-01 03:00</td>\n",
       "      <td>4</td>\n",
       "      <td>0.0</td>\n",
       "    </tr>\n",
       "    <tr>\n",
       "      <td>2020-01-01 04:00</td>\n",
       "      <td>5</td>\n",
       "      <td>0.0</td>\n",
       "    </tr>\n",
       "    <tr>\n",
       "      <td>...</td>\n",
       "      <td>...</td>\n",
       "      <td>...</td>\n",
       "    </tr>\n",
       "    <tr>\n",
       "      <td>2020-03-09 19:00</td>\n",
       "      <td>20</td>\n",
       "      <td>0.0</td>\n",
       "    </tr>\n",
       "    <tr>\n",
       "      <td>2020-03-09 20:00</td>\n",
       "      <td>21</td>\n",
       "      <td>0.0</td>\n",
       "    </tr>\n",
       "    <tr>\n",
       "      <td>2020-03-09 21:00</td>\n",
       "      <td>22</td>\n",
       "      <td>0.0</td>\n",
       "    </tr>\n",
       "    <tr>\n",
       "      <td>2020-03-09 22:00</td>\n",
       "      <td>23</td>\n",
       "      <td>0.0</td>\n",
       "    </tr>\n",
       "    <tr>\n",
       "      <td>2020-03-09 23:00</td>\n",
       "      <td>24</td>\n",
       "      <td>0.0</td>\n",
       "    </tr>\n",
       "  </tbody>\n",
       "</table>\n",
       "<p>1656 rows × 2 columns</p>\n",
       "</div>"
      ],
      "text/plain": [
       "                  hora  GICIS306\n",
       "fecha_hora                      \n",
       "2020-01-01 00:00     1       0.0\n",
       "2020-01-01 01:00     2       0.0\n",
       "2020-01-01 02:00     3       0.0\n",
       "2020-01-01 03:00     4       0.0\n",
       "2020-01-01 04:00     5       0.0\n",
       "...                ...       ...\n",
       "2020-03-09 19:00    20       0.0\n",
       "2020-03-09 20:00    21       0.0\n",
       "2020-03-09 21:00    22       0.0\n",
       "2020-03-09 22:00    23       0.0\n",
       "2020-03-09 23:00    24       0.0\n",
       "\n",
       "[1656 rows x 2 columns]"
      ]
     },
     "execution_count": 11,
     "metadata": {},
     "output_type": "execute_result"
    }
   ],
   "source": [
    "    data2 = datos[['hora',columna]]\n",
    "    data2[columna] = (data2[columna]) # para efectos de las tranformaciones logaritmicas(eliminar el 0)\n",
    "    #data2 = data2.dropna()\n",
    "    data2"
   ]
  },
  {
   "cell_type": "markdown",
   "metadata": {},
   "source": [
    "***"
   ]
  },
  {
   "cell_type": "code",
   "execution_count": 12,
   "metadata": {
    "ExecuteTime": {
     "end_time": "2020-03-21T21:37:47.595078Z",
     "start_time": "2020-03-21T21:37:47.587660Z"
    },
    "code_folding": []
   },
   "outputs": [],
   "source": [
    "    #Se separará por hora del día, ya que cada hora se comporta diferente.\n",
    "    xhr = pd.DataFrame() ; log = pd.DataFrame() ; rends = pd.DataFrame() ; rlogs = pd.DataFrame()\n",
    "    ano,dia,hora= str(data2.index[1])[0:4], str(data2.index[1])[5:7] ,str(data2.index[1])[8:10]"
   ]
  },
  {
   "cell_type": "code",
   "execution_count": 13,
   "metadata": {
    "ExecuteTime": {
     "end_time": "2020-03-21T21:37:58.631756Z",
     "start_time": "2020-03-21T21:37:47.598931Z"
    }
   },
   "outputs": [
    {
     "ename": "NameError",
     "evalue": "name 'n' is not defined",
     "output_type": "error",
     "traceback": [
      "\u001b[0;31m---------------------------------------------------------------------------\u001b[0m",
      "\u001b[0;31mNameError\u001b[0m                                 Traceback (most recent call last)",
      "\u001b[0;32m<ipython-input-13-18946c613e95>\u001b[0m in \u001b[0;36m<module>\u001b[0;34m\u001b[0m\n\u001b[1;32m      5\u001b[0m \u001b[0mxhr\u001b[0m\u001b[0;34m\u001b[0m\u001b[0;34m\u001b[0m\u001b[0m\n\u001b[1;32m      6\u001b[0m \u001b[0;34m\u001b[0m\u001b[0m\n\u001b[0;32m----> 7\u001b[0;31m \u001b[0mxhr\u001b[0m\u001b[0;34m.\u001b[0m\u001b[0mdrop\u001b[0m\u001b[0;34m(\u001b[0m\u001b[0mxhr\u001b[0m\u001b[0;34m.\u001b[0m\u001b[0mtail\u001b[0m\u001b[0;34m(\u001b[0m\u001b[0mn\u001b[0m\u001b[0;34m)\u001b[0m\u001b[0;34m.\u001b[0m\u001b[0mindex\u001b[0m\u001b[0;34m,\u001b[0m\u001b[0minplace\u001b[0m\u001b[0;34m=\u001b[0m\u001b[0;32mTrue\u001b[0m\u001b[0;34m)\u001b[0m\u001b[0;34m\u001b[0m\u001b[0;34m\u001b[0m\u001b[0m\n\u001b[0m",
      "\u001b[0;31mNameError\u001b[0m: name 'n' is not defined"
     ]
    }
   ],
   "source": [
    "    #El siguiente ciclo 'for' crea un DataFrame acomodado por horas, de cada planta de generación.\n",
    "    for i in range(1,25):\n",
    "        hrs = [data2.iloc[j][1] for j in range(len(data2)) if data2.iloc[j][0] == i ] #pd.Series()\n",
    "        xhr['Hora '+str(i)] = hrs\n",
    "    xhr"
   ]
  },
  {
   "cell_type": "code",
   "execution_count": 14,
   "metadata": {
    "ExecuteTime": {
     "end_time": "2020-03-21T21:38:06.356580Z",
     "start_time": "2020-03-21T21:38:06.260249Z"
    }
   },
   "outputs": [
    {
     "data": {
      "text/html": [
       "<div>\n",
       "<style scoped>\n",
       "    .dataframe tbody tr th:only-of-type {\n",
       "        vertical-align: middle;\n",
       "    }\n",
       "\n",
       "    .dataframe tbody tr th {\n",
       "        vertical-align: top;\n",
       "    }\n",
       "\n",
       "    .dataframe thead th {\n",
       "        text-align: right;\n",
       "    }\n",
       "</style>\n",
       "<table border=\"1\" class=\"dataframe\">\n",
       "  <thead>\n",
       "    <tr style=\"text-align: right;\">\n",
       "      <th></th>\n",
       "      <th>Hora 1</th>\n",
       "      <th>Hora 2</th>\n",
       "      <th>Hora 3</th>\n",
       "      <th>Hora 4</th>\n",
       "      <th>Hora 5</th>\n",
       "      <th>Hora 6</th>\n",
       "      <th>Hora 7</th>\n",
       "      <th>Hora 8</th>\n",
       "      <th>Hora 9</th>\n",
       "      <th>Hora 10</th>\n",
       "      <th>...</th>\n",
       "      <th>Hora 15</th>\n",
       "      <th>Hora 16</th>\n",
       "      <th>Hora 17</th>\n",
       "      <th>Hora 18</th>\n",
       "      <th>Hora 19</th>\n",
       "      <th>Hora 20</th>\n",
       "      <th>Hora 21</th>\n",
       "      <th>Hora 22</th>\n",
       "      <th>Hora 23</th>\n",
       "      <th>Hora 24</th>\n",
       "    </tr>\n",
       "  </thead>\n",
       "  <tbody>\n",
       "    <tr>\n",
       "      <td>0</td>\n",
       "      <td>0.0</td>\n",
       "      <td>0.0</td>\n",
       "      <td>0.0</td>\n",
       "      <td>0.0</td>\n",
       "      <td>0.0</td>\n",
       "      <td>0.0</td>\n",
       "      <td>0.0</td>\n",
       "      <td>56.0</td>\n",
       "      <td>219.0</td>\n",
       "      <td>539.0</td>\n",
       "      <td>...</td>\n",
       "      <td>638.0</td>\n",
       "      <td>603.0</td>\n",
       "      <td>379.0</td>\n",
       "      <td>106.0</td>\n",
       "      <td>0.0</td>\n",
       "      <td>0.0</td>\n",
       "      <td>0.0</td>\n",
       "      <td>0.0</td>\n",
       "      <td>0.0</td>\n",
       "      <td>0.0</td>\n",
       "    </tr>\n",
       "    <tr>\n",
       "      <td>1</td>\n",
       "      <td>0.0</td>\n",
       "      <td>0.0</td>\n",
       "      <td>0.0</td>\n",
       "      <td>0.0</td>\n",
       "      <td>0.0</td>\n",
       "      <td>0.0</td>\n",
       "      <td>0.0</td>\n",
       "      <td>6.0</td>\n",
       "      <td>99.0</td>\n",
       "      <td>456.0</td>\n",
       "      <td>...</td>\n",
       "      <td>551.0</td>\n",
       "      <td>605.0</td>\n",
       "      <td>452.0</td>\n",
       "      <td>84.0</td>\n",
       "      <td>0.0</td>\n",
       "      <td>0.0</td>\n",
       "      <td>0.0</td>\n",
       "      <td>0.0</td>\n",
       "      <td>0.0</td>\n",
       "      <td>0.0</td>\n",
       "    </tr>\n",
       "    <tr>\n",
       "      <td>2</td>\n",
       "      <td>0.0</td>\n",
       "      <td>0.0</td>\n",
       "      <td>0.0</td>\n",
       "      <td>0.0</td>\n",
       "      <td>0.0</td>\n",
       "      <td>0.0</td>\n",
       "      <td>0.0</td>\n",
       "      <td>49.0</td>\n",
       "      <td>243.0</td>\n",
       "      <td>435.0</td>\n",
       "      <td>...</td>\n",
       "      <td>645.0</td>\n",
       "      <td>611.0</td>\n",
       "      <td>468.0</td>\n",
       "      <td>112.0</td>\n",
       "      <td>0.0</td>\n",
       "      <td>0.0</td>\n",
       "      <td>0.0</td>\n",
       "      <td>0.0</td>\n",
       "      <td>0.0</td>\n",
       "      <td>0.0</td>\n",
       "    </tr>\n",
       "    <tr>\n",
       "      <td>3</td>\n",
       "      <td>0.0</td>\n",
       "      <td>0.0</td>\n",
       "      <td>0.0</td>\n",
       "      <td>0.0</td>\n",
       "      <td>0.0</td>\n",
       "      <td>0.0</td>\n",
       "      <td>0.0</td>\n",
       "      <td>0.0</td>\n",
       "      <td>36.0</td>\n",
       "      <td>330.0</td>\n",
       "      <td>...</td>\n",
       "      <td>648.0</td>\n",
       "      <td>636.0</td>\n",
       "      <td>499.0</td>\n",
       "      <td>184.0</td>\n",
       "      <td>2.0</td>\n",
       "      <td>0.0</td>\n",
       "      <td>0.0</td>\n",
       "      <td>0.0</td>\n",
       "      <td>0.0</td>\n",
       "      <td>0.0</td>\n",
       "    </tr>\n",
       "    <tr>\n",
       "      <td>4</td>\n",
       "      <td>0.0</td>\n",
       "      <td>0.0</td>\n",
       "      <td>0.0</td>\n",
       "      <td>0.0</td>\n",
       "      <td>0.0</td>\n",
       "      <td>0.0</td>\n",
       "      <td>0.0</td>\n",
       "      <td>1.0</td>\n",
       "      <td>113.0</td>\n",
       "      <td>438.0</td>\n",
       "      <td>...</td>\n",
       "      <td>651.0</td>\n",
       "      <td>630.0</td>\n",
       "      <td>388.0</td>\n",
       "      <td>122.0</td>\n",
       "      <td>4.0</td>\n",
       "      <td>0.0</td>\n",
       "      <td>0.0</td>\n",
       "      <td>0.0</td>\n",
       "      <td>0.0</td>\n",
       "      <td>0.0</td>\n",
       "    </tr>\n",
       "    <tr>\n",
       "      <td>...</td>\n",
       "      <td>...</td>\n",
       "      <td>...</td>\n",
       "      <td>...</td>\n",
       "      <td>...</td>\n",
       "      <td>...</td>\n",
       "      <td>...</td>\n",
       "      <td>...</td>\n",
       "      <td>...</td>\n",
       "      <td>...</td>\n",
       "      <td>...</td>\n",
       "      <td>...</td>\n",
       "      <td>...</td>\n",
       "      <td>...</td>\n",
       "      <td>...</td>\n",
       "      <td>...</td>\n",
       "      <td>...</td>\n",
       "      <td>...</td>\n",
       "      <td>...</td>\n",
       "      <td>...</td>\n",
       "      <td>...</td>\n",
       "      <td>...</td>\n",
       "    </tr>\n",
       "    <tr>\n",
       "      <td>64</td>\n",
       "      <td>0.0</td>\n",
       "      <td>0.0</td>\n",
       "      <td>0.0</td>\n",
       "      <td>0.0</td>\n",
       "      <td>0.0</td>\n",
       "      <td>0.0</td>\n",
       "      <td>0.0</td>\n",
       "      <td>11.0</td>\n",
       "      <td>134.0</td>\n",
       "      <td>418.0</td>\n",
       "      <td>...</td>\n",
       "      <td>567.0</td>\n",
       "      <td>593.0</td>\n",
       "      <td>564.0</td>\n",
       "      <td>292.0</td>\n",
       "      <td>29.0</td>\n",
       "      <td>2.0</td>\n",
       "      <td>0.0</td>\n",
       "      <td>0.0</td>\n",
       "      <td>0.0</td>\n",
       "      <td>0.0</td>\n",
       "    </tr>\n",
       "    <tr>\n",
       "      <td>65</td>\n",
       "      <td>0.0</td>\n",
       "      <td>0.0</td>\n",
       "      <td>0.0</td>\n",
       "      <td>0.0</td>\n",
       "      <td>0.0</td>\n",
       "      <td>0.0</td>\n",
       "      <td>0.0</td>\n",
       "      <td>0.0</td>\n",
       "      <td>0.0</td>\n",
       "      <td>0.0</td>\n",
       "      <td>...</td>\n",
       "      <td>0.0</td>\n",
       "      <td>0.0</td>\n",
       "      <td>0.0</td>\n",
       "      <td>0.0</td>\n",
       "      <td>0.0</td>\n",
       "      <td>0.0</td>\n",
       "      <td>0.0</td>\n",
       "      <td>0.0</td>\n",
       "      <td>0.0</td>\n",
       "      <td>0.0</td>\n",
       "    </tr>\n",
       "    <tr>\n",
       "      <td>66</td>\n",
       "      <td>0.0</td>\n",
       "      <td>0.0</td>\n",
       "      <td>0.0</td>\n",
       "      <td>0.0</td>\n",
       "      <td>0.0</td>\n",
       "      <td>0.0</td>\n",
       "      <td>0.0</td>\n",
       "      <td>0.0</td>\n",
       "      <td>0.0</td>\n",
       "      <td>0.0</td>\n",
       "      <td>...</td>\n",
       "      <td>0.0</td>\n",
       "      <td>0.0</td>\n",
       "      <td>0.0</td>\n",
       "      <td>0.0</td>\n",
       "      <td>0.0</td>\n",
       "      <td>0.0</td>\n",
       "      <td>0.0</td>\n",
       "      <td>0.0</td>\n",
       "      <td>0.0</td>\n",
       "      <td>0.0</td>\n",
       "    </tr>\n",
       "    <tr>\n",
       "      <td>67</td>\n",
       "      <td>0.0</td>\n",
       "      <td>0.0</td>\n",
       "      <td>0.0</td>\n",
       "      <td>0.0</td>\n",
       "      <td>0.0</td>\n",
       "      <td>0.0</td>\n",
       "      <td>0.0</td>\n",
       "      <td>0.0</td>\n",
       "      <td>0.0</td>\n",
       "      <td>0.0</td>\n",
       "      <td>...</td>\n",
       "      <td>0.0</td>\n",
       "      <td>0.0</td>\n",
       "      <td>0.0</td>\n",
       "      <td>0.0</td>\n",
       "      <td>0.0</td>\n",
       "      <td>0.0</td>\n",
       "      <td>0.0</td>\n",
       "      <td>0.0</td>\n",
       "      <td>0.0</td>\n",
       "      <td>0.0</td>\n",
       "    </tr>\n",
       "    <tr>\n",
       "      <td>68</td>\n",
       "      <td>0.0</td>\n",
       "      <td>0.0</td>\n",
       "      <td>0.0</td>\n",
       "      <td>0.0</td>\n",
       "      <td>0.0</td>\n",
       "      <td>0.0</td>\n",
       "      <td>0.0</td>\n",
       "      <td>0.0</td>\n",
       "      <td>0.0</td>\n",
       "      <td>0.0</td>\n",
       "      <td>...</td>\n",
       "      <td>0.0</td>\n",
       "      <td>0.0</td>\n",
       "      <td>0.0</td>\n",
       "      <td>0.0</td>\n",
       "      <td>0.0</td>\n",
       "      <td>0.0</td>\n",
       "      <td>0.0</td>\n",
       "      <td>0.0</td>\n",
       "      <td>0.0</td>\n",
       "      <td>0.0</td>\n",
       "    </tr>\n",
       "  </tbody>\n",
       "</table>\n",
       "<p>69 rows × 24 columns</p>\n",
       "</div>"
      ],
      "text/plain": [
       "    Hora 1  Hora 2  Hora 3  Hora 4  Hora 5  Hora 6  Hora 7  Hora 8  Hora 9  \\\n",
       "0      0.0     0.0     0.0     0.0     0.0     0.0     0.0    56.0   219.0   \n",
       "1      0.0     0.0     0.0     0.0     0.0     0.0     0.0     6.0    99.0   \n",
       "2      0.0     0.0     0.0     0.0     0.0     0.0     0.0    49.0   243.0   \n",
       "3      0.0     0.0     0.0     0.0     0.0     0.0     0.0     0.0    36.0   \n",
       "4      0.0     0.0     0.0     0.0     0.0     0.0     0.0     1.0   113.0   \n",
       "..     ...     ...     ...     ...     ...     ...     ...     ...     ...   \n",
       "64     0.0     0.0     0.0     0.0     0.0     0.0     0.0    11.0   134.0   \n",
       "65     0.0     0.0     0.0     0.0     0.0     0.0     0.0     0.0     0.0   \n",
       "66     0.0     0.0     0.0     0.0     0.0     0.0     0.0     0.0     0.0   \n",
       "67     0.0     0.0     0.0     0.0     0.0     0.0     0.0     0.0     0.0   \n",
       "68     0.0     0.0     0.0     0.0     0.0     0.0     0.0     0.0     0.0   \n",
       "\n",
       "    Hora 10  ...  Hora 15  Hora 16  Hora 17  Hora 18  Hora 19  Hora 20  \\\n",
       "0     539.0  ...    638.0    603.0    379.0    106.0      0.0      0.0   \n",
       "1     456.0  ...    551.0    605.0    452.0     84.0      0.0      0.0   \n",
       "2     435.0  ...    645.0    611.0    468.0    112.0      0.0      0.0   \n",
       "3     330.0  ...    648.0    636.0    499.0    184.0      2.0      0.0   \n",
       "4     438.0  ...    651.0    630.0    388.0    122.0      4.0      0.0   \n",
       "..      ...  ...      ...      ...      ...      ...      ...      ...   \n",
       "64    418.0  ...    567.0    593.0    564.0    292.0     29.0      2.0   \n",
       "65      0.0  ...      0.0      0.0      0.0      0.0      0.0      0.0   \n",
       "66      0.0  ...      0.0      0.0      0.0      0.0      0.0      0.0   \n",
       "67      0.0  ...      0.0      0.0      0.0      0.0      0.0      0.0   \n",
       "68      0.0  ...      0.0      0.0      0.0      0.0      0.0      0.0   \n",
       "\n",
       "    Hora 21  Hora 22  Hora 23  Hora 24  \n",
       "0       0.0      0.0      0.0      0.0  \n",
       "1       0.0      0.0      0.0      0.0  \n",
       "2       0.0      0.0      0.0      0.0  \n",
       "3       0.0      0.0      0.0      0.0  \n",
       "4       0.0      0.0      0.0      0.0  \n",
       "..      ...      ...      ...      ...  \n",
       "64      0.0      0.0      0.0      0.0  \n",
       "65      0.0      0.0      0.0      0.0  \n",
       "66      0.0      0.0      0.0      0.0  \n",
       "67      0.0      0.0      0.0      0.0  \n",
       "68      0.0      0.0      0.0      0.0  \n",
       "\n",
       "[69 rows x 24 columns]"
      ]
     },
     "execution_count": 14,
     "metadata": {},
     "output_type": "execute_result"
    }
   ],
   "source": [
    "    #Se va a trabajar con logaritmicos, porque esta transformación no afecta el vlaor, sino solo su rango.\n",
    "    #log = np.log(xhr+1)\n",
    "    log = xhr\n",
    "    log"
   ]
  },
  {
   "cell_type": "code",
   "execution_count": null,
   "metadata": {
    "ExecuteTime": {
     "end_time": "2020-03-21T21:37:58.654992Z",
     "start_time": "2020-03-21T21:37:24.832Z"
    }
   },
   "outputs": [],
   "source": [
    "    #Se le cambia el index a los DataFrame creados, por las fechas que son.\n",
    "    xhr = xhr.set_index(pd.date_range(start=datos['fecha'][0],end=datos['fecha'][-1],freq='d'))\n",
    "    xhr"
   ]
  },
  {
   "cell_type": "code",
   "execution_count": null,
   "metadata": {
    "ExecuteTime": {
     "end_time": "2020-03-21T21:37:58.665474Z",
     "start_time": "2020-03-21T21:37:24.834Z"
    }
   },
   "outputs": [],
   "source": [
    "    #Seleccion de y_train y y_test\n",
    "    test = (xhr.iloc[-5:,:])   # INFO DE TEST\n",
    "    train = log.drop(log.index[1945:]) # QUITANDO TEST PARA TRAIN"
   ]
  },
  {
   "cell_type": "code",
   "execution_count": null,
   "metadata": {
    "ExecuteTime": {
     "end_time": "2020-03-21T21:37:58.677077Z",
     "start_time": "2020-03-21T21:37:24.837Z"
    }
   },
   "outputs": [],
   "source": [
    "train, test"
   ]
  },
  {
   "cell_type": "code",
   "execution_count": null,
   "metadata": {
    "ExecuteTime": {
     "end_time": "2020-03-21T21:37:58.703199Z",
     "start_time": "2020-03-21T21:37:24.838Z"
    }
   },
   "outputs": [],
   "source": [
    "    fcc = []\n",
    "\n",
    "    #MODELO ARIMA\n",
    "    for i in range(1,25):\n",
    "        y_train = train['Hora '+str(i)].dropna()\n",
    "        \n",
    "        model = pm.auto_arima(y_train.values, start_p=1, start_q=1,\n",
    "            test='adf',       # use adftest to find optimal 'd'\n",
    "            max_p=4, max_q=4, # maximum p and q\n",
    "            m=12,              # frequency of series\n",
    "            d=None,           # let model determine 'd'\n",
    "            seasonal=True,    # No Seasonality\n",
    "            stepwise=True)   \n",
    "\n",
    "        model.fit(y_train.values)\n",
    "        #print(model)\n",
    "        #model.plot_diagnostics(figsize=(7,5))\n",
    "        #plt.show()\n",
    "            \n",
    "        # Predicción\n",
    "        fc, confint = model.predict(n_periods=len(test), return_conf_int=True)\n",
    "        fcc.append(fc)\n",
    "        \n",
    "    fc, model = AIC_accuracy(train,test)"
   ]
  },
  {
   "cell_type": "code",
   "execution_count": null,
   "metadata": {
    "ExecuteTime": {
     "end_time": "2020-03-21T21:37:58.719634Z",
     "start_time": "2020-03-21T21:37:24.840Z"
    }
   },
   "outputs": [],
   "source": [
    "model.summary()"
   ]
  },
  {
   "cell_type": "code",
   "execution_count": null,
   "metadata": {
    "ExecuteTime": {
     "end_time": "2020-03-21T21:37:58.727929Z",
     "start_time": "2020-03-21T21:37:24.841Z"
    }
   },
   "outputs": [],
   "source": [
    "fc"
   ]
  },
  {
   "cell_type": "code",
   "execution_count": null,
   "metadata": {
    "ExecuteTime": {
     "end_time": "2020-03-21T21:37:58.733353Z",
     "start_time": "2020-03-21T21:37:24.844Z"
    }
   },
   "outputs": [],
   "source": [
    "fcc"
   ]
  },
  {
   "cell_type": "code",
   "execution_count": null,
   "metadata": {
    "ExecuteTime": {
     "end_time": "2020-03-21T21:37:58.735936Z",
     "start_time": "2020-03-21T21:37:24.845Z"
    }
   },
   "outputs": [],
   "source": [
    "    mapes = [mape(fcc[i-1], (test['Hora '+str(i)])) for i in range(1,25)]\n",
    "    mapes = pd.DataFrame(mapes).dropna()\n",
    "    mapes[mapes == inf] = 0\n",
    "    mape_promedio = np.mean(mapes)"
   ]
  },
  {
   "cell_type": "code",
   "execution_count": null,
   "metadata": {
    "ExecuteTime": {
     "end_time": "2020-03-21T21:37:58.739265Z",
     "start_time": "2020-03-21T21:37:24.847Z"
    }
   },
   "outputs": [],
   "source": [
    "    dias = []\n",
    "    for j in range(0,5):\n",
    "        dias.append([([ fc[i][j] for i in range(len(fc))])][0])\n",
    "    pronostico = pd.DataFrame(np.concatenate(dias))\n",
    "    start=datos['fecha'][0]\n",
    "    pronostico = pronostico.set_index(pd.date_range(test.index[0],periods=len(pronostico),freq='H'))\n",
    "    pronostico.index = pronostico.index.map(str)"
   ]
  },
  {
   "cell_type": "code",
   "execution_count": null,
   "metadata": {
    "ExecuteTime": {
     "end_time": "2020-03-21T21:37:58.744677Z",
     "start_time": "2020-03-21T21:37:24.848Z"
    }
   },
   "outputs": [],
   "source": [
    "pronostico"
   ]
  },
  {
   "cell_type": "code",
   "execution_count": null,
   "metadata": {
    "ExecuteTime": {
     "end_time": "2020-03-21T21:37:58.748449Z",
     "start_time": "2020-03-21T21:37:24.850Z"
    }
   },
   "outputs": [],
   "source": [
    "datos[columna][-1-19*24:]"
   ]
  },
  {
   "cell_type": "code",
   "execution_count": null,
   "metadata": {
    "ExecuteTime": {
     "end_time": "2020-03-21T21:37:58.754194Z",
     "start_time": "2020-03-21T21:37:24.852Z"
    }
   },
   "outputs": [],
   "source": [
    "    arange_dates = []\n",
    "    arange_no = []\n",
    "    arange = datos[columna][-1-19*24:].index\n",
    "    for i in range(0,len(arange),48):\n",
    "        arange_dates.append(arange[i])\n",
    "        arange_no.append(i)\n",
    "\n",
    "    plt.figure(figsize=(12,5), dpi=100)\n",
    "    plt.plot(datos[columna][-1-19*24:], 'o-', label = 'Datos Reales')\n",
    "    plt.plot(pronostico, 'o--', label='pronostico',color ='r')\n",
    "    plt.title('Predicción vs Reales 5 dias '+columna)\n",
    "    plt.xticks(arange_no,arange_dates,rotation = 45)\n",
    "    plt.legend(loc='upper left', fontsize=8)\n",
    "    plt.show()\n",
    "    \n",
    "    print(mape_promedio)\n",
    "    #print(fc)\n",
    "    #print(model)"
   ]
  },
  {
   "cell_type": "code",
   "execution_count": null,
   "metadata": {
    "ExecuteTime": {
     "end_time": "2020-03-21T21:37:58.756695Z",
     "start_time": "2020-03-21T21:37:24.853Z"
    }
   },
   "outputs": [],
   "source": [
    "Forecasts = pd.DataFrame(fcc).dropna().T"
   ]
  },
  {
   "cell_type": "code",
   "execution_count": null,
   "metadata": {
    "ExecuteTime": {
     "end_time": "2020-03-21T21:37:58.759430Z",
     "start_time": "2020-03-21T21:37:24.855Z"
    }
   },
   "outputs": [],
   "source": [
    "Forecasts.index = test.index\n",
    "Forecasts.columns = test.columns\n",
    "round(Forecasts,2)"
   ]
  },
  {
   "cell_type": "code",
   "execution_count": null,
   "metadata": {
    "ExecuteTime": {
     "end_time": "2020-03-21T21:37:58.762181Z",
     "start_time": "2020-03-21T21:37:24.856Z"
    }
   },
   "outputs": [],
   "source": [
    "test"
   ]
  },
  {
   "cell_type": "code",
   "execution_count": null,
   "metadata": {
    "ExecuteTime": {
     "end_time": "2020-03-21T21:37:58.766706Z",
     "start_time": "2020-03-21T21:37:24.857Z"
    }
   },
   "outputs": [],
   "source": [
    "new_mapes = np.abs((Forecasts - test) / test)\n",
    "new_mapes[new_mapes == inf] = 0"
   ]
  },
  {
   "cell_type": "code",
   "execution_count": null,
   "metadata": {
    "ExecuteTime": {
     "end_time": "2020-03-21T21:37:58.770258Z",
     "start_time": "2020-03-21T21:37:24.859Z"
    }
   },
   "outputs": [],
   "source": [
    "new_mapes"
   ]
  },
  {
   "cell_type": "code",
   "execution_count": null,
   "metadata": {
    "ExecuteTime": {
     "end_time": "2020-03-21T21:37:58.781191Z",
     "start_time": "2020-03-21T21:37:24.861Z"
    }
   },
   "outputs": [],
   "source": [
    "new_mapes[[ 'Hora 8', 'Hora 9', 'Hora 10',\n",
    "                           'Hora 11', 'Hora 12','Hora 13', 'Hora 14', 'Hora 15',\n",
    "                          'Hora 16', 'Hora 17', 'Hora 18', 'Hora 19']]"
   ]
  },
  {
   "cell_type": "code",
   "execution_count": null,
   "metadata": {
    "ExecuteTime": {
     "end_time": "2020-03-21T21:37:58.784212Z",
     "start_time": "2020-03-21T21:37:24.862Z"
    }
   },
   "outputs": [],
   "source": [
    "np.mean(new_mapes)"
   ]
  },
  {
   "cell_type": "code",
   "execution_count": null,
   "metadata": {
    "ExecuteTime": {
     "end_time": "2020-03-21T21:37:58.786406Z",
     "start_time": "2020-03-21T21:37:24.864Z"
    }
   },
   "outputs": [],
   "source": [
    "np.mean(np.mean(new_mapes[['Hora 8', 'Hora 9', 'Hora 10',\n",
    "                           'Hora 11', 'Hora 12','Hora 13', 'Hora 14', 'Hora 15',\n",
    "                          'Hora 16', 'Hora 17', 'Hora 18', 'Hora 19']]))"
   ]
  },
  {
   "cell_type": "code",
   "execution_count": null,
   "metadata": {},
   "outputs": [],
   "source": []
  }
 ],
 "metadata": {
  "kernelspec": {
   "display_name": "Python 3",
   "language": "python",
   "name": "python3"
  },
  "language_info": {
   "codemirror_mode": {
    "name": "ipython",
    "version": 3
   },
   "file_extension": ".py",
   "mimetype": "text/x-python",
   "name": "python",
   "nbconvert_exporter": "python",
   "pygments_lexer": "ipython3",
   "version": "3.7.4"
  }
 },
 "nbformat": 4,
 "nbformat_minor": 2
}
